{
 "cells": [
  {
   "cell_type": "code",
   "execution_count": 1,
   "metadata": {},
   "outputs": [],
   "source": [
    "import numpy as np\n",
    "import matplotlib.pyplot as plt"
   ]
  },
  {
   "cell_type": "code",
   "execution_count": 2,
   "metadata": {},
   "outputs": [
    {
     "ename": "FileNotFoundError",
     "evalue": "[Errno 2] No such file or directory: 'model/sketch.nyu/results_sketch/1194.npy'",
     "output_type": "error",
     "traceback": [
      "\u001b[0;31m---------------------------------------------------------------------------\u001b[0m",
      "\u001b[0;31mFileNotFoundError\u001b[0m                         Traceback (most recent call last)",
      "Cell \u001b[0;32mIn[2], line 1\u001b[0m\n\u001b[0;32m----> 1\u001b[0m data \u001b[38;5;241m=\u001b[39m \u001b[43mnp\u001b[49m\u001b[38;5;241;43m.\u001b[39;49m\u001b[43mload\u001b[49m\u001b[43m(\u001b[49m\u001b[38;5;124;43m\"\u001b[39;49m\u001b[38;5;124;43mmodel/sketch.nyu/results_sketch/1194.npy\u001b[39;49m\u001b[38;5;124;43m\"\u001b[39;49m\u001b[43m)\u001b[49m\n\u001b[1;32m      3\u001b[0m \u001b[38;5;28mprint\u001b[39m(\u001b[38;5;124mf\u001b[39m\u001b[38;5;124m\"\u001b[39m\u001b[38;5;124mData shape: \u001b[39m\u001b[38;5;132;01m{\u001b[39;00mdata\u001b[38;5;241m.\u001b[39mshape\u001b[38;5;132;01m}\u001b[39;00m\u001b[38;5;124m\"\u001b[39m)\n\u001b[1;32m      4\u001b[0m \u001b[38;5;28mprint\u001b[39m(\u001b[38;5;124mf\u001b[39m\u001b[38;5;124m\"\u001b[39m\u001b[38;5;124mData type: \u001b[39m\u001b[38;5;132;01m{\u001b[39;00mdata\u001b[38;5;241m.\u001b[39mdtype\u001b[38;5;132;01m}\u001b[39;00m\u001b[38;5;124m\"\u001b[39m)\n",
      "File \u001b[0;32m~/anaconda3/envs/torch-ssc/lib/python3.8/site-packages/numpy/lib/npyio.py:405\u001b[0m, in \u001b[0;36mload\u001b[0;34m(file, mmap_mode, allow_pickle, fix_imports, encoding, max_header_size)\u001b[0m\n\u001b[1;32m    403\u001b[0m     own_fid \u001b[38;5;241m=\u001b[39m \u001b[38;5;28;01mFalse\u001b[39;00m\n\u001b[1;32m    404\u001b[0m \u001b[38;5;28;01melse\u001b[39;00m:\n\u001b[0;32m--> 405\u001b[0m     fid \u001b[38;5;241m=\u001b[39m stack\u001b[38;5;241m.\u001b[39menter_context(\u001b[38;5;28;43mopen\u001b[39;49m\u001b[43m(\u001b[49m\u001b[43mos_fspath\u001b[49m\u001b[43m(\u001b[49m\u001b[43mfile\u001b[49m\u001b[43m)\u001b[49m\u001b[43m,\u001b[49m\u001b[43m \u001b[49m\u001b[38;5;124;43m\"\u001b[39;49m\u001b[38;5;124;43mrb\u001b[39;49m\u001b[38;5;124;43m\"\u001b[39;49m\u001b[43m)\u001b[49m)\n\u001b[1;32m    406\u001b[0m     own_fid \u001b[38;5;241m=\u001b[39m \u001b[38;5;28;01mTrue\u001b[39;00m\n\u001b[1;32m    408\u001b[0m \u001b[38;5;66;03m# Code to distinguish from NumPy binary files and pickles.\u001b[39;00m\n",
      "\u001b[0;31mFileNotFoundError\u001b[0m: [Errno 2] No such file or directory: 'model/sketch.nyu/results_sketch/1194.npy'"
     ]
    }
   ],
   "source": [
    "data = np.load(\"model/sketch.nyu/results_sketch/1194.npy\")\n",
    "\n",
    "print(f\"Data shape: {data.shape}\")\n",
    "print(f\"Data type: {data.dtype}\")"
   ]
  },
  {
   "cell_type": "code",
   "execution_count": 20,
   "metadata": {},
   "outputs": [
    {
     "name": "stdout",
     "output_type": "stream",
     "text": [
      "Data shape:  (60, 36, 60)\n",
      "Value at (10, 20, 30): 1\n",
      "Label distribution: {0: 17, 1: 129583}\n"
     ]
    }
   ],
   "source": [
    "\n",
    "# Load your semantic labeling data\n",
    "data = np.load('model/sketch.nyu/results_sketch/1004.npy')\n",
    "#data = np.load('model/sketch.nyu/results/1004.npy')\n",
    "\n",
    "print(\"Data shape: \", data.shape)\n",
    "\n",
    "x, y, z = 10, 20, 30  # Example coordinates\n",
    "value = data[x, y, z]\n",
    "print(f\"Value at ({x}, {y}, {z}): {value}\")\n",
    "\n",
    "# Print a label distribution\n",
    "unique, counts = np.unique(data, return_counts=True)\n",
    "label_counts = dict(zip(unique, counts))\n",
    "print(\"Label distribution:\", label_counts)\n",
    "\n"
   ]
  },
  {
   "cell_type": "code",
   "execution_count": 13,
   "metadata": {},
   "outputs": [],
   "source": [
    "# Single File Visualization\n",
    "\n",
    "import matplotlib.pyplot as plt\n",
    "import numpy as np\n",
    "import open3d as o3d\n",
    "\n",
    "\n",
    "# Load your semantic labeling data\n",
    "data = np.load('model/sketch.nyu/results_sketch/1194.npy')\n",
    "\n",
    "# Generate a colormap with 12 distinct colors\n",
    "cmap = plt.get_cmap(\"tab20\")  # 'tab20' has 20 distinct colors\n",
    "colors = cmap(np.linspace(0, 1, 12))  # Generate 12 colors\n",
    "\n",
    "# Create a mapping from labels to colors (in RGB format expected by Open3D)\n",
    "label_to_color = {label: colors[label][:3] for label in range(12)}\n",
    "\n",
    "# Create a point cloud where each point represents a voxel's center, colored by its semantic label\n",
    "points = []\n",
    "colors = []\n",
    "\n",
    "for i in range(data.shape[0]):\n",
    "    for j in range(data.shape[1]):\n",
    "        for k in range(data.shape[2]):\n",
    "            label = data[i, j, k]\n",
    "            if label in label_to_color:  # Check if the label has a defined color\n",
    "                # Add the voxel center point (adjust the scaling as needed)\n",
    "                points.append([i, j, k])\n",
    "                # Add the color corresponding to the label\n",
    "                colors.append(label_to_color[label])\n",
    "\n",
    "# Convert lists to NumPy arrays\n",
    "points = np.array(points)\n",
    "colors = np.array(colors)\n",
    "\n",
    "# Create and visualize the colored point cloud\n",
    "pcd = o3d.geometry.PointCloud()\n",
    "pcd.points = o3d.utility.Vector3dVector(points)\n",
    "pcd.colors = o3d.utility.Vector3dVector(colors)\n",
    "\n",
    "o3d.visualization.draw_geometries([pcd])\n"
   ]
  },
  {
   "cell_type": "code",
   "execution_count": 19,
   "metadata": {},
   "outputs": [],
   "source": [
    "# Multifile Visualization\n",
    "import numpy as np\n",
    "import matplotlib.pyplot as plt\n",
    "\n",
    "def process_npy_file(file_path, label_to_color):\n",
    "    data = np.load(file_path)\n",
    "\n",
    "    points = []\n",
    "    colors = []\n",
    "\n",
    "    for i in range(data.shape[0]):\n",
    "        for j in range(data.shape[1]):\n",
    "            for k in range(data.shape[2]):\n",
    "                label = data[i, j, k]\n",
    "                if label in label_to_color:\n",
    "                    points.append([i, j, k])\n",
    "                    colors.append(label_to_color[label])\n",
    "    \n",
    "    return np.array(points), np.array(colors)\n",
    "\n",
    "\n",
    "import os\n",
    "import open3d as o3d\n",
    "\n",
    "directory_path = 'model/sketch.nyu/results/'\n",
    "\n",
    "# Pre-define the color mapping\n",
    "cmap = plt.get_cmap(\"tab20\")\n",
    "colors = cmap(np.linspace(0, 1, 12))\n",
    "label_to_color = {label: colors[label][:3] for label in range(12)}\n",
    "\n",
    "# Initialize lists to aggregate points and colors\n",
    "all_points = []\n",
    "all_colors = []\n",
    "\n",
    "for file_name in os.listdir(directory_path):\n",
    "    if file_name.endswith('.npy'):\n",
    "        file_path = os.path.join(directory_path, file_name)\n",
    "        points, colors = process_npy_file(file_path, label_to_color)\n",
    "        all_points.append(points)\n",
    "        all_colors.append(colors)\n",
    "\n",
    "# Concatenate all points and colors into single arrays\n",
    "all_points = np.vstack(all_points)\n",
    "all_colors = np.vstack(all_colors)\n",
    "# Create the point cloud object\n",
    "pcd = o3d.geometry.PointCloud()\n",
    "pcd.points = o3d.utility.Vector3dVector(all_points)\n",
    "pcd.colors = o3d.utility.Vector3dVector(all_colors)\n",
    "\n",
    "# Visualize the point cloud\n",
    "o3d.visualization.draw_geometries([pcd])\n"
   ]
  },
  {
   "cell_type": "code",
   "execution_count": null,
   "metadata": {},
   "outputs": [],
   "source": [
    "### Use to view the model keys in the pre-trained model ###\n",
    "\n",
    "import torch\n",
    "\n",
    "# Path to your .pth file\n",
    "file_path = 'DATA/pytorch-weight/resnet50-imagenet.pth'\n",
    "\n",
    "# Load the file\n",
    "state_dict = torch.load(file_path)\n",
    "\n",
    "# Assuming the file contains a state dictionary, print its keys\n",
    "if isinstance(state_dict, dict):\n",
    "    for key in state_dict.keys():\n",
    "        print(key)\n",
    "else:\n",
    "    print(\"Loaded object is not a dictionary.\")\n"
   ]
  },
  {
   "cell_type": "code",
   "execution_count": 23,
   "metadata": {},
   "outputs": [
    {
     "name": "stdout",
     "output_type": "stream",
     "text": [
      "(2, 19, 3)\n"
     ]
    }
   ],
   "source": [
    "import torch\n",
    "print(torch.cuda.nccl.version())\n"
   ]
  },
  {
   "cell_type": "code",
   "execution_count": null,
   "metadata": {},
   "outputs": [],
   "source": []
  }
 ],
 "metadata": {
  "kernelspec": {
   "display_name": "torch-ssc",
   "language": "python",
   "name": "python3"
  },
  "language_info": {
   "codemirror_mode": {
    "name": "ipython",
    "version": 3
   },
   "file_extension": ".py",
   "mimetype": "text/x-python",
   "name": "python",
   "nbconvert_exporter": "python",
   "pygments_lexer": "ipython3",
   "version": "3.8.18"
  }
 },
 "nbformat": 4,
 "nbformat_minor": 2
}
