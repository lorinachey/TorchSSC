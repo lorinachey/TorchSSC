{
 "cells": [
  {
   "cell_type": "code",
   "execution_count": 1,
   "metadata": {},
   "outputs": [],
   "source": [
    "import numpy as np\n",
    "import matplotlib.pyplot as plt"
   ]
  },
  {
   "cell_type": "code",
   "execution_count": 3,
   "metadata": {},
   "outputs": [
    {
     "name": "stdout",
     "output_type": "stream",
     "text": [
      "Data shape: (60, 36, 60)\n",
      "Data type: int64\n"
     ]
    }
   ],
   "source": [
    "data = np.load(\"model/sketch.nyu/results_sketch/1194.npy\")\n",
    "\n",
    "print(f\"Data shape: {data.shape}\")\n",
    "print(f\"Data type: {data.dtype}\")"
   ]
  },
  {
   "cell_type": "code",
   "execution_count": 7,
   "metadata": {},
   "outputs": [
    {
     "name": "stdout",
     "output_type": "stream",
     "text": [
      "Data shape:  (60, 36, 60)\n",
      "Value at (10, 20, 30): 0\n",
      "Label distribution: {0: 49793, 1: 3930, 2: 3522, 3: 19470, 4: 220, 5: 641, 6: 8580, 7: 14, 8: 4366, 9: 26, 10: 24487, 11: 14551}\n"
     ]
    }
   ],
   "source": [
    "\n",
    "# Load your semantic labeling data\n",
    "data = np.load('model/sketch.nyu/results/1004.npy')\n",
    "#data = np.load('model/sketch.nyu/results/1004.npy')\n",
    "\n",
    "print(\"Data shape: \", data.shape)\n",
    "\n",
    "x, y, z = 10, 20, 30  # Example coordinates\n",
    "value = data[x, y, z]\n",
    "print(f\"Value at ({x}, {y}, {z}): {value}\")\n",
    "\n",
    "# Print a label distribution\n",
    "unique, counts = np.unique(data, return_counts=True)\n",
    "label_counts = dict(zip(unique, counts))\n",
    "print(\"Label distribution:\", label_counts)\n",
    "\n"
   ]
  },
  {
   "cell_type": "code",
   "execution_count": 8,
   "metadata": {},
   "outputs": [
    {
     "name": "stdout",
     "output_type": "stream",
     "text": [
      "{0: array([0.12156863, 0.46666667, 0.70588235]), 1: array([0.68235294, 0.78039216, 0.90980392]), 2: array([1.        , 0.73333333, 0.47058824]), 3: array([0.59607843, 0.8745098 , 0.54117647]), 4: array([1.        , 0.59607843, 0.58823529]), 5: array([0.77254902, 0.69019608, 0.83529412]), 6: array([0.54901961, 0.3372549 , 0.29411765]), 7: array([0.89019608, 0.46666667, 0.76078431]), 8: array([0.49803922, 0.49803922, 0.49803922]), 9: array([0.7372549 , 0.74117647, 0.13333333]), 10: array([0.09019608, 0.74509804, 0.81176471]), 11: array([0.61960784, 0.85490196, 0.89803922])}\n"
     ]
    }
   ],
   "source": [
    "# Single File Visualization\n",
    "\n",
    "import matplotlib.pyplot as plt\n",
    "import numpy as np\n",
    "import open3d as o3d\n",
    "\n",
    "\n",
    "# Load your semantic labeling data\n",
    "data = np.load('model/sketch.nyu/results/1194.npy')\n",
    "\n",
    "# Generate a colormap with 12 distinct colors\n",
    "cmap = plt.get_cmap(\"tab20\")  # 'tab20' has 20 distinct colors\n",
    "colors = cmap(np.linspace(0, 1, 12))  # Generate 12 colors\n",
    "\n",
    "# Create a mapping from labels to colors (in RGB format expected by Open3D)\n",
    "label_to_color = {label: colors[label][:3] for label in range(12)}\n",
    "# print(label_to_color)\n",
    "\n",
    "# Create a point cloud where each point represents a voxel's center, colored by its semantic label\n",
    "points = []\n",
    "colors = []\n",
    "\n",
    "for i in range(data.shape[0]):\n",
    "    for j in range(data.shape[1]):\n",
    "        for k in range(data.shape[2]):\n",
    "            label = data[i, j, k]\n",
    "            if label in label_to_color:  # Check if the label has a defined color\n",
    "                # Add the voxel center point (adjust the scaling as needed)\n",
    "                points.append([i, j, k])\n",
    "                # Add the color corresponding to the label\n",
    "                colors.append(label_to_color[label])\n",
    "\n",
    "# Convert lists to NumPy arrays\n",
    "points = np.array(points)\n",
    "colors = np.array(colors)\n",
    "\n",
    "# Create and visualize the colored point cloud\n",
    "pcd = o3d.geometry.PointCloud()\n",
    "pcd.points = o3d.utility.Vector3dVector(points)\n",
    "pcd.colors = o3d.utility.Vector3dVector(colors)\n",
    "\n",
    "o3d.visualization.draw_geometries([pcd])\n"
   ]
  },
  {
   "cell_type": "code",
   "execution_count": null,
   "metadata": {},
   "outputs": [],
   "source": [
    "### Use to view the model keys in the pre-trained model ###\n",
    "\n",
    "import torch\n",
    "\n",
    "# Path to your .pth file\n",
    "file_path = 'DATA/pytorch-weight/resnet50-imagenet.pth'\n",
    "\n",
    "# Load the file\n",
    "state_dict = torch.load(file_path)\n",
    "\n",
    "# Assuming the file contains a state dictionary, print its keys\n",
    "if isinstance(state_dict, dict):\n",
    "    for key in state_dict.keys():\n",
    "        print(key)\n",
    "else:\n",
    "    print(\"Loaded object is not a dictionary.\")\n"
   ]
  },
  {
   "cell_type": "code",
   "execution_count": 23,
   "metadata": {},
   "outputs": [
    {
     "name": "stdout",
     "output_type": "stream",
     "text": [
      "(2, 19, 3)\n"
     ]
    }
   ],
   "source": [
    "import torch\n",
    "print(torch.cuda.nccl.version())\n"
   ]
  },
  {
   "cell_type": "code",
   "execution_count": null,
   "metadata": {},
   "outputs": [],
   "source": []
  }
 ],
 "metadata": {
  "kernelspec": {
   "display_name": "torch-ssc",
   "language": "python",
   "name": "python3"
  },
  "language_info": {
   "codemirror_mode": {
    "name": "ipython",
    "version": 3
   },
   "file_extension": ".py",
   "mimetype": "text/x-python",
   "name": "python",
   "nbconvert_exporter": "python",
   "pygments_lexer": "ipython3",
   "version": "3.8.18"
  }
 },
 "nbformat": 4,
 "nbformat_minor": 2
}
